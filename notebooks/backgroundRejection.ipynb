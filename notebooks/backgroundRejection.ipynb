{
 "cells": [
  {
   "cell_type": "code",
   "execution_count": 1,
   "id": "fab67872-f3b8-44ff-b327-1ea3a53c6c71",
   "metadata": {},
   "outputs": [],
   "source": [
    "import numpy as np\n",
    "from sklearn.metrics import accuracy_score\n",
    "import matplotlib.pyplot as plt\n",
    "import numpy as np\n",
    "from sklearn.metrics import roc_curve, auc, roc_auc_score\n",
    "from scipy.special import softmax\n",
    "\n"
   ]
  },
  {
   "cell_type": "code",
   "execution_count": 23,
   "id": "47b70f51-9661-4b04-a9fa-cc80ab49d046",
   "metadata": {},
   "outputs": [
    {
     "name": "stdout",
     "output_type": "stream",
     "text": [
      "Rejection at 50.0% for label_Hbb: 4246.284501061571\n",
      "Rejection at 50.0% for label_Hcc: 1046.0251046025105\n",
      "Rejection at 50.0% for label_Hgg: 82.05128205128204\n",
      "Rejection at 50.0% for label_H4q: 416.49312786339027\n",
      "Rejection at 99.0% for label_Hqql: 570.7762557077625\n",
      "Rejection at 50.0% for label_Zqq: 189.48365703458077\n",
      "Rejection at 50.0% for label_Wqq: 210.1281781886951\n",
      "Rejection at 50.0% for label_Tbqq: 2347.417840375587\n",
      "Rejection at 99.5% for label_Tbl: 1307.1895424836603\n",
      "Overall ROC AUC = 0.9357, Accuracy = 0.7969\n"
     ]
    }
   ],
   "source": [
    "label_list = ['label_QCD' , 'label_Hbb', 'label_Hcc', 'label_Hgg', 'label_H4q', 'label_Hqql', 'label_Zqq', 'label_Wqq', 'label_Tbqq', 'label_Tbl']  # Replace with your actual class labels\n",
    "\n",
    "n_classes = 10 \n",
    "\n",
    "predictions = np.load('outputs_base.npy')\n",
    "\n",
    "labels = np.load('labels_base.npy')\n",
    "\n",
    "y_prob = softmax(predictions, axis=1)  \n",
    "\n",
    "scores = y_prob[:,1:10]/ (y_prob[:,0][:, np.newaxis] + y_prob[:,1:10])\n",
    "\n",
    "scores = np.concatenate((y_prob[:,0].reshape(len(scores),1), scores), axis = 1)\n",
    "\n",
    "rejections = []\n",
    "\n",
    "for i in range(1, n_classes):  \n",
    "    percent = 0.5\n",
    "    \n",
    "    mask = (labels[:, 0] == 1) | (labels[:, i] == 1)\n",
    "    filtered_labels = labels[mask]\n",
    "    filtered_scores = scores[mask]\n",
    "    \n",
    "    binary_labels = (filtered_labels[:, i] == 1).astype(int)\n",
    "    \n",
    "    binary_scores = filtered_scores[:, i]\n",
    "    \n",
    "    fpr, tpr, thresholds = roc_curve(binary_labels, binary_scores)\n",
    "\n",
    "    if i == 5:\n",
    "        percent = 0.99\n",
    "    if i == 9:\n",
    "        percent = 0.995\n",
    "    \n",
    "    idx = np.abs(tpr - percent).argmin()\n",
    "    \n",
    "    if fpr[idx] != 0:\n",
    "        rejection = 1 / fpr[idx]\n",
    "    else:\n",
    "        rejection = np.inf  \n",
    "    \n",
    "    rejections.append(rejection)\n",
    "\n",
    "    \n",
    "    print(f'Rejection at {percent*100}% for {label_list[i]}: {rejection}')\n",
    "    \n",
    "overall_roc_auc = roc_auc_score(labels, scores, average='macro', multi_class='ovo')\n",
    "\n",
    "predicted_labels = np.argmax(softmax(base, axis=1), axis=1) \n",
    "true_labels = np.argmax(labels, axis=1)  \n",
    "\n",
    "accuracy = accuracy_score(true_labels, predicted_labels)\n",
    "\n",
    "print(f'Overall ROC AUC = {overall_roc_auc:.4f}, Accuracy = {accuracy:.4f}')\n"
   ]
  }
 ],
 "metadata": {
  "kernelspec": {
   "display_name": "pytorch",
   "language": "python",
   "name": "pytorch"
  },
  "language_info": {
   "codemirror_mode": {
    "name": "ipython",
    "version": 3
   },
   "file_extension": ".py",
   "mimetype": "text/x-python",
   "name": "python",
   "nbconvert_exporter": "python",
   "pygments_lexer": "ipython3",
   "version": "3.9.19"
  }
 },
 "nbformat": 4,
 "nbformat_minor": 5
}
